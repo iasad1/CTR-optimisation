{
 "cells": [
  {
   "cell_type": "markdown",
   "metadata": {},
   "source": [
    "# Data Retrieval Direct from Source\n",
    "\n",
    "## Installation\n",
    "Open a conda terminal and install db.py\n",
    "\n",
    "pip install db.py\n",
    "\n",
    "In the docs for db.py, a Python 2 only module is listed as the one to use for MySQL. Instead, use the following package:\n",
    "\n",
    "pip install mysqlclient\n",
    "\n",
    "There are a few other options but this is the only one I've seen working"
   ]
  },
  {
   "cell_type": "code",
   "execution_count": null,
   "metadata": {},
   "outputs": [],
   "source": [
    "from db import DB\n",
    "import pandas as pd"
   ]
  },
  {
   "cell_type": "markdown",
   "metadata": {},
   "source": [
    "## Setup\n",
    "Store your db credentials in a local profile using our shared name, mariadb_ro. This way, whenever we share notebooks, our machines will all automatically use our own credentials."
   ]
  },
  {
   "cell_type": "code",
   "execution_count": null,
   "metadata": {},
   "outputs": [],
   "source": [
    "db = DB(username=\"yourusername\", password=\"yourpassword\", hostname=\"db-dw.lvh.systems\",dbtype=\"mysql\")\n",
    "db.save_credentials(profile=\"mariadb_ro\")"
   ]
  },
  {
   "cell_type": "markdown",
   "metadata": {},
   "source": [
    "You only need to run this once. After that, execute the following code to load your profile"
   ]
  },
  {
   "cell_type": "code",
   "execution_count": null,
   "metadata": {},
   "outputs": [],
   "source": [
    "db = DB(profile=\"mariadb_ro\")"
   ]
  },
  {
   "cell_type": "markdown",
   "metadata": {},
   "source": [
    "# Finding Functions"
   ]
  },
  {
   "cell_type": "code",
   "execution_count": null,
   "metadata": {},
   "outputs": [],
   "source": [
    "db.find_table(\"A*\")"
   ]
  },
  {
   "cell_type": "code",
   "execution_count": null,
   "metadata": {},
   "outputs": [],
   "source": [
    "db.find_column('_date')"
   ]
  },
  {
   "cell_type": "markdown",
   "metadata": {},
   "source": [
    "# Querying the Database\n",
    "\n",
    "All results are automatically placed into a DataFrame.\n",
    "Either run the query directly from a file or from a string "
   ]
  },
  {
   "cell_type": "code",
   "execution_count": null,
   "metadata": {},
   "outputs": [],
   "source": [
    "#from file\n",
    "df_from_file = db.query_from_file(\"myscript.sql\")"
   ]
  },
  {
   "cell_type": "code",
   "execution_count": null,
   "metadata": {},
   "outputs": [],
   "source": [
    "#from string\n",
    "df_from_string = db.query(\"select * from dw.attribution_paths_detail limit 1000;\")"
   ]
  },
  {
   "cell_type": "markdown",
   "metadata": {},
   "source": [
    "Everything is easier to read when the query string is stored seperately and errors will be reduced when this is encapsulated in triple quotes. Here's some examples of real queries: "
   ]
  },
  {
   "cell_type": "code",
   "execution_count": null,
   "metadata": {},
   "outputs": [],
   "source": [
    "q2 = \"\"\"\n",
    "select \n",
    "    * \n",
    "from \n",
    "    reporting.tripadvisor_mbl\n",
    "where \n",
    "    start_date > date_sub(current_date(), interval 7 day)\n",
    "    and mbl!=\"Not-Available\" \n",
    "\"\"\"\n",
    "dfmbl = db.query(q2)\n",
    "dfmbl.head()"
   ]
  },
  {
   "cell_type": "markdown",
   "metadata": {},
   "source": [
    "You can see all tables using this line"
   ]
  },
  {
   "cell_type": "code",
   "execution_count": null,
   "metadata": {},
   "outputs": [],
   "source": [
    "db.tables"
   ]
  },
  {
   "cell_type": "markdown",
   "metadata": {},
   "source": [
    "and address specific tables like this"
   ]
  },
  {
   "cell_type": "code",
   "execution_count": null,
   "metadata": {},
   "outputs": [],
   "source": [
    "db.tables.tripadvisor_mbl.sample()"
   ]
  },
  {
   "cell_type": "code",
   "execution_count": null,
   "metadata": {},
   "outputs": [],
   "source": []
  }
 ],
 "metadata": {
  "kernelspec": {
   "display_name": "Python 3",
   "language": "python",
   "name": "python3"
  },
  "language_info": {
   "codemirror_mode": {
    "name": "ipython",
    "version": 3
   },
   "file_extension": ".py",
   "mimetype": "text/x-python",
   "name": "python",
   "nbconvert_exporter": "python",
   "pygments_lexer": "ipython3",
   "version": "3.7.4"
  }
 },
 "nbformat": 4,
 "nbformat_minor": 2
}
